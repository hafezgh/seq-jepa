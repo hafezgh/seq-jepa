{
 "cells": [
  {
   "cell_type": "code",
   "execution_count": 1,
   "metadata": {},
   "outputs": [],
   "source": [
    "%load_ext autoreload\n",
    "%autoreload 2"
   ]
  },
  {
   "cell_type": "code",
   "execution_count": 11,
   "metadata": {},
   "outputs": [
    {
     "name": "stdout",
     "output_type": "stream",
     "text": [
      "dict_keys(['model', 'optimizer', 'min_loss', 'epoch', 'run_id', 'lr_scheduler'])\n"
     ]
    }
   ],
   "source": [
    "to_load = \"seqjepa-stl10_pls-ckpt_epoch_2000.pth\"\n",
    "\n",
    "import torch\n",
    "a = torch.load(to_load)\n",
    "print(a.keys())\n",
    "\n",
    "ckpt_seqjepa = a['model']\n",
    "#print(ckpt_seqjepa.keys())\n",
    "### save the ckpt\n",
    "torch.save(ckpt_seqjepa, '/home/hafezgh/ckpt_seqjepa_stl10_seq5_pls_ep2000.pth')"
   ]
  },
  {
   "cell_type": "code",
   "execution_count": null,
   "metadata": {},
   "outputs": [],
   "source": []
  },
  {
   "cell_type": "code",
   "execution_count": null,
   "metadata": {},
   "outputs": [],
   "source": []
  },
  {
   "cell_type": "markdown",
   "metadata": {},
   "source": []
  }
 ],
 "metadata": {
  "kernelspec": {
   "display_name": "Python (memory-2025-02-py310)",
   "language": "python",
   "name": "memory-2025-02-py310"
  },
  "language_info": {
   "codemirror_mode": {
    "name": "ipython",
    "version": 3
   },
   "file_extension": ".py",
   "mimetype": "text/x-python",
   "name": "python",
   "nbconvert_exporter": "python",
   "pygments_lexer": "ipython3",
   "version": "3.10.12"
  }
 },
 "nbformat": 4,
 "nbformat_minor": 2
}
